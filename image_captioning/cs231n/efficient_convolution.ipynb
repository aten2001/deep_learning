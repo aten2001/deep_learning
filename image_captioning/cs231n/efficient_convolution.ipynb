{
 "cells": [
  {
   "cell_type": "code",
   "execution_count": 113,
   "metadata": {},
   "outputs": [
    {
     "name": "stdout",
     "output_type": "stream",
     "text": [
      "Enter number of rows for the input Matrix:10\n",
      "Enter number of columns for the input Matrix:10\n",
      "Most Optimized Function: conv_2D_ndimage()\n",
      "Time taken to perform convolution: 0.0008033839985728264 seconds\n",
      "Dx Min: -246 , Dx Max: 232\n",
      "Dy Min: -246 , Dy Max: 234\n"
     ]
    },
    {
     "data": {
      "image/png": "[encoded data removed]",
      "text/plain": [
       "<Figure size 576x360 with 1 Axes>"
      ]
     },
     "metadata": {
      "needs_background": "light"
     },
     "output_type": "display_data"
    }
   ],
   "source": [
    "import numpy as np\n",
    "from scipy import ndimage\n",
    "import matplotlib.pyplot as plt\n",
    "from scipy import signal\n",
    "from timeit import Timer\n",
    "\n",
    "#read number of rows and columns and store them in M,N\n",
    "row = int(input(\"Enter number of rows for the input Matrix:\"))\n",
    "col = int(input(\"Enter number of columns for the input Matrix:\"))\n",
    "kernel=[1,0,-1]\n",
    "\n",
    "# Assumptions:\n",
    "# Output size of row convolution and column convolution is the same size as input M i.e. row by col \n",
    "# (only middle values after convolution are returned). Borders are padded with zeros where necessary.\n",
    "\n",
    "def convolve_2D_ndimage(row,col, kernel):\n",
    "    # initialize M with random positive values. M_dtype =uint8 (0-255)\n",
    "    M = np.random.randint(255, size=(row,col),dtype='uint8')\n",
    "    \n",
    "    #initialize row convolution output and column convolution output\n",
    "    Dx = np.zeros((row, col),dtype='int32')\n",
    "    Dy = np.zeros((row, col),dtype='int32')\n",
    "    \n",
    "    for i in range(row):\n",
    "        Dx[i,:] = ndimage.convolve(M[i,:].astype('int32'), kernel, mode='constant', cval=0.0)\n",
    "    for i in range(col):\n",
    "        Dy[:,i] = ndimage.convolve(M[:,i].astype('int32'), np.transpose(kernel), mode='constant', cval=0.0)\n",
    "    return Dx,Dy\n",
    "\n",
    "def convolve_2D_fft(row,col, kernel):\n",
    "    # initialize M with random positive values\n",
    "    M = np.random.randint(255, size=(row,col),dtype='uint8')\n",
    "    \n",
    "    #initialize row convolution output and column convolution output\n",
    "    Dx = np.zeros((row, col),dtype='int64')\n",
    "    Dy = np.zeros((row, col),dtype='int64')\n",
    "    \n",
    "    for i in range(row):\n",
    "        Dx[i,:] = signal.fftconvolve(M[i,:].astype('int32'), kernel, 'same')\n",
    "    for i in range(col):\n",
    "        Dy[:,i] = signal.fftconvolve(M[:,i].astype('int32'), np.transpose(kernel), 'same')\n",
    "    return Dx,Dy\n",
    "\n",
    "def print_min_max(Dx,Dy):\n",
    "    print(\"Dx Min:\",np.min(Dx),\", Dx Max:\",np.max(Dx))\n",
    "    print(\"Dy Min:\",np.min(Dy),\", Dy Max:\",np.max(Dy))\n",
    "\n",
    "# Optional: Testing different methods for time efficieny\n",
    "def time_efficiency_test():\n",
    "    c_2d, fft=[],[]\n",
    "    Ns = 2**np.arange(4, 10)\n",
    "    num=5\n",
    "    for N in Ns:\n",
    "        t = Timer(lambda: convolve_2D_ndimage(N, N, kernel))\n",
    "        c_2d.append(t.timeit(number=num))\n",
    "\n",
    "        t = Timer(lambda: convolve_2D_fft(N, N, kernel))\n",
    "        fft.append(t.timeit(number=num))\n",
    "    fig , ax = plt.subplots(figsize=(8, 5))\n",
    "    ax.scatter(Ns, c_2d[:len(Ns)], c='m', label='Conv_2D_ndimage')\n",
    "    ax.scatter(Ns, fft[:len(Ns)], c='b', label='Conv_2D_fft')\n",
    "    ax.set_xlabel('Square Input Size(N) ')\n",
    "    ax.set_ylabel('time (s)')\n",
    "    ax.legend();\n",
    "    \n",
    "#Print test results:\n",
    "time_efficiency_test()\n",
    "\n",
    "#CONCLUSION: Most Optimized Function: conv_2D_ndimage()\n",
    "print(\"Most Optimized Function: conv_2D_ndimage()\")\n",
    "#Print time taken to run the convole_2D code\n",
    "T = Timer(lambda: convolve_2D_ndimage(row, col, kernel))\n",
    "print(\"Time taken to compute Dx and Dy Matrices:\",T.timeit(number=1),\"seconds\")\n",
    "\n",
    "#Print min and max values of Dx and Dy\n",
    "Dx,Dy= convolve_2D_ndimage(row, col, kernel)\n",
    "print_min_max(Dx,Dy)\n",
    "\n"
   ]
  },
  {
   "cell_type": "code",
   "execution_count": null,
   "metadata": {},
   "outputs": [],
   "source": []
  },
  {
   "cell_type": "code",
   "execution_count": null,
   "metadata": {},
   "outputs": [],
   "source": []
  }
 ],
 "metadata": {
  "kernelspec": {
   "display_name": "Python 3",
   "language": "python",
   "name": "python3"
  },
  "language_info": {
   "codemirror_mode": {
    "name": "ipython",
    "version": 3
   },
   "file_extension": ".py",
   "mimetype": "text/x-python",
   "name": "python",
   "nbconvert_exporter": "python",
   "pygments_lexer": "ipython3",
   "version": "3.6.10"
  }
 },
 "nbformat": 4,
 "nbformat_minor": 4
}
